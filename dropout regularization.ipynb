{
 "cells": [
  {
   "cell_type": "code",
   "execution_count": 6,
   "metadata": {},
   "outputs": [],
   "source": [
    "url = 'https://raw.githubusercontent.com/codebasics/py/master/DeepLearningML/13_dropout_layer/sonar_dataset.csv'\n",
    "import pandas as pd\n",
    "df = pd.read_csv(url,header=None, error_bad_lines=False)"
   ]
  },
  {
   "cell_type": "code",
   "execution_count": 7,
   "metadata": {},
   "outputs": [
    {
     "data": {
      "text/html": [
       "<div>\n",
       "<style scoped>\n",
       "    .dataframe tbody tr th:only-of-type {\n",
       "        vertical-align: middle;\n",
       "    }\n",
       "\n",
       "    .dataframe tbody tr th {\n",
       "        vertical-align: top;\n",
       "    }\n",
       "\n",
       "    .dataframe thead th {\n",
       "        text-align: right;\n",
       "    }\n",
       "</style>\n",
       "<table border=\"1\" class=\"dataframe\">\n",
       "  <thead>\n",
       "    <tr style=\"text-align: right;\">\n",
       "      <th></th>\n",
       "      <th>0</th>\n",
       "      <th>1</th>\n",
       "      <th>2</th>\n",
       "      <th>3</th>\n",
       "      <th>4</th>\n",
       "      <th>5</th>\n",
       "      <th>6</th>\n",
       "      <th>7</th>\n",
       "      <th>8</th>\n",
       "      <th>9</th>\n",
       "      <th>...</th>\n",
       "      <th>51</th>\n",
       "      <th>52</th>\n",
       "      <th>53</th>\n",
       "      <th>54</th>\n",
       "      <th>55</th>\n",
       "      <th>56</th>\n",
       "      <th>57</th>\n",
       "      <th>58</th>\n",
       "      <th>59</th>\n",
       "      <th>60</th>\n",
       "    </tr>\n",
       "  </thead>\n",
       "  <tbody>\n",
       "    <tr>\n",
       "      <th>0</th>\n",
       "      <td>0.0200</td>\n",
       "      <td>0.0371</td>\n",
       "      <td>0.0428</td>\n",
       "      <td>0.0207</td>\n",
       "      <td>0.0954</td>\n",
       "      <td>0.0986</td>\n",
       "      <td>0.1539</td>\n",
       "      <td>0.1601</td>\n",
       "      <td>0.3109</td>\n",
       "      <td>0.2111</td>\n",
       "      <td>...</td>\n",
       "      <td>0.0027</td>\n",
       "      <td>0.0065</td>\n",
       "      <td>0.0159</td>\n",
       "      <td>0.0072</td>\n",
       "      <td>0.0167</td>\n",
       "      <td>0.0180</td>\n",
       "      <td>0.0084</td>\n",
       "      <td>0.0090</td>\n",
       "      <td>0.0032</td>\n",
       "      <td>R</td>\n",
       "    </tr>\n",
       "    <tr>\n",
       "      <th>1</th>\n",
       "      <td>0.0453</td>\n",
       "      <td>0.0523</td>\n",
       "      <td>0.0843</td>\n",
       "      <td>0.0689</td>\n",
       "      <td>0.1183</td>\n",
       "      <td>0.2583</td>\n",
       "      <td>0.2156</td>\n",
       "      <td>0.3481</td>\n",
       "      <td>0.3337</td>\n",
       "      <td>0.2872</td>\n",
       "      <td>...</td>\n",
       "      <td>0.0084</td>\n",
       "      <td>0.0089</td>\n",
       "      <td>0.0048</td>\n",
       "      <td>0.0094</td>\n",
       "      <td>0.0191</td>\n",
       "      <td>0.0140</td>\n",
       "      <td>0.0049</td>\n",
       "      <td>0.0052</td>\n",
       "      <td>0.0044</td>\n",
       "      <td>R</td>\n",
       "    </tr>\n",
       "    <tr>\n",
       "      <th>2</th>\n",
       "      <td>0.0262</td>\n",
       "      <td>0.0582</td>\n",
       "      <td>0.1099</td>\n",
       "      <td>0.1083</td>\n",
       "      <td>0.0974</td>\n",
       "      <td>0.2280</td>\n",
       "      <td>0.2431</td>\n",
       "      <td>0.3771</td>\n",
       "      <td>0.5598</td>\n",
       "      <td>0.6194</td>\n",
       "      <td>...</td>\n",
       "      <td>0.0232</td>\n",
       "      <td>0.0166</td>\n",
       "      <td>0.0095</td>\n",
       "      <td>0.0180</td>\n",
       "      <td>0.0244</td>\n",
       "      <td>0.0316</td>\n",
       "      <td>0.0164</td>\n",
       "      <td>0.0095</td>\n",
       "      <td>0.0078</td>\n",
       "      <td>R</td>\n",
       "    </tr>\n",
       "    <tr>\n",
       "      <th>3</th>\n",
       "      <td>0.0100</td>\n",
       "      <td>0.0171</td>\n",
       "      <td>0.0623</td>\n",
       "      <td>0.0205</td>\n",
       "      <td>0.0205</td>\n",
       "      <td>0.0368</td>\n",
       "      <td>0.1098</td>\n",
       "      <td>0.1276</td>\n",
       "      <td>0.0598</td>\n",
       "      <td>0.1264</td>\n",
       "      <td>...</td>\n",
       "      <td>0.0121</td>\n",
       "      <td>0.0036</td>\n",
       "      <td>0.0150</td>\n",
       "      <td>0.0085</td>\n",
       "      <td>0.0073</td>\n",
       "      <td>0.0050</td>\n",
       "      <td>0.0044</td>\n",
       "      <td>0.0040</td>\n",
       "      <td>0.0117</td>\n",
       "      <td>R</td>\n",
       "    </tr>\n",
       "    <tr>\n",
       "      <th>4</th>\n",
       "      <td>0.0762</td>\n",
       "      <td>0.0666</td>\n",
       "      <td>0.0481</td>\n",
       "      <td>0.0394</td>\n",
       "      <td>0.0590</td>\n",
       "      <td>0.0649</td>\n",
       "      <td>0.1209</td>\n",
       "      <td>0.2467</td>\n",
       "      <td>0.3564</td>\n",
       "      <td>0.4459</td>\n",
       "      <td>...</td>\n",
       "      <td>0.0031</td>\n",
       "      <td>0.0054</td>\n",
       "      <td>0.0105</td>\n",
       "      <td>0.0110</td>\n",
       "      <td>0.0015</td>\n",
       "      <td>0.0072</td>\n",
       "      <td>0.0048</td>\n",
       "      <td>0.0107</td>\n",
       "      <td>0.0094</td>\n",
       "      <td>R</td>\n",
       "    </tr>\n",
       "  </tbody>\n",
       "</table>\n",
       "<p>5 rows × 61 columns</p>\n",
       "</div>"
      ],
      "text/plain": [
       "       0       1       2       3       4       5       6       7       8   \\\n",
       "0  0.0200  0.0371  0.0428  0.0207  0.0954  0.0986  0.1539  0.1601  0.3109   \n",
       "1  0.0453  0.0523  0.0843  0.0689  0.1183  0.2583  0.2156  0.3481  0.3337   \n",
       "2  0.0262  0.0582  0.1099  0.1083  0.0974  0.2280  0.2431  0.3771  0.5598   \n",
       "3  0.0100  0.0171  0.0623  0.0205  0.0205  0.0368  0.1098  0.1276  0.0598   \n",
       "4  0.0762  0.0666  0.0481  0.0394  0.0590  0.0649  0.1209  0.2467  0.3564   \n",
       "\n",
       "       9   ...      51      52      53      54      55      56      57  \\\n",
       "0  0.2111  ...  0.0027  0.0065  0.0159  0.0072  0.0167  0.0180  0.0084   \n",
       "1  0.2872  ...  0.0084  0.0089  0.0048  0.0094  0.0191  0.0140  0.0049   \n",
       "2  0.6194  ...  0.0232  0.0166  0.0095  0.0180  0.0244  0.0316  0.0164   \n",
       "3  0.1264  ...  0.0121  0.0036  0.0150  0.0085  0.0073  0.0050  0.0044   \n",
       "4  0.4459  ...  0.0031  0.0054  0.0105  0.0110  0.0015  0.0072  0.0048   \n",
       "\n",
       "       58      59  60  \n",
       "0  0.0090  0.0032   R  \n",
       "1  0.0052  0.0044   R  \n",
       "2  0.0095  0.0078   R  \n",
       "3  0.0040  0.0117   R  \n",
       "4  0.0107  0.0094   R  \n",
       "\n",
       "[5 rows x 61 columns]"
      ]
     },
     "execution_count": 7,
     "metadata": {},
     "output_type": "execute_result"
    }
   ],
   "source": [
    "df.head()"
   ]
  },
  {
   "cell_type": "code",
   "execution_count": 9,
   "metadata": {},
   "outputs": [],
   "source": [
    "import numpy as np\n",
    "import matplotlib.pyplot as plt\n",
    "import seaborn as sn"
   ]
  },
  {
   "cell_type": "code",
   "execution_count": 10,
   "metadata": {},
   "outputs": [
    {
     "data": {
      "text/plain": [
       "(208, 61)"
      ]
     },
     "execution_count": 10,
     "metadata": {},
     "output_type": "execute_result"
    }
   ],
   "source": [
    "df.shape"
   ]
  },
  {
   "cell_type": "code",
   "execution_count": 14,
   "metadata": {
    "scrolled": true
   },
   "outputs": [
    {
     "data": {
      "text/plain": [
       "0     0\n",
       "1     0\n",
       "2     0\n",
       "3     0\n",
       "4     0\n",
       "     ..\n",
       "56    0\n",
       "57    0\n",
       "58    0\n",
       "59    0\n",
       "60    0\n",
       "Length: 61, dtype: int64"
      ]
     },
     "execution_count": 14,
     "metadata": {},
     "output_type": "execute_result"
    }
   ],
   "source": [
    "df.isna().sum()"
   ]
  },
  {
   "cell_type": "code",
   "execution_count": 15,
   "metadata": {
    "scrolled": true
   },
   "outputs": [
    {
     "data": {
      "text/plain": [
       "Int64Index([ 0,  1,  2,  3,  4,  5,  6,  7,  8,  9, 10, 11, 12, 13, 14, 15, 16,\n",
       "            17, 18, 19, 20, 21, 22, 23, 24, 25, 26, 27, 28, 29, 30, 31, 32, 33,\n",
       "            34, 35, 36, 37, 38, 39, 40, 41, 42, 43, 44, 45, 46, 47, 48, 49, 50,\n",
       "            51, 52, 53, 54, 55, 56, 57, 58, 59, 60],\n",
       "           dtype='int64')"
      ]
     },
     "execution_count": 15,
     "metadata": {},
     "output_type": "execute_result"
    }
   ],
   "source": [
    "df.columns"
   ]
  },
  {
   "cell_type": "code",
   "execution_count": 16,
   "metadata": {
    "scrolled": true
   },
   "outputs": [
    {
     "data": {
      "text/plain": [
       "M    111\n",
       "R     97\n",
       "Name: 60, dtype: int64"
      ]
     },
     "execution_count": 16,
     "metadata": {},
     "output_type": "execute_result"
    }
   ],
   "source": [
    "df[60].value_counts()"
   ]
  },
  {
   "cell_type": "code",
   "execution_count": 41,
   "metadata": {},
   "outputs": [
    {
     "data": {
      "text/plain": [
       "46     R\n",
       "92     R\n",
       "186    M\n",
       "103    M\n",
       "41     R\n",
       "Name: 60, dtype: object"
      ]
     },
     "execution_count": 41,
     "metadata": {},
     "output_type": "execute_result"
    }
   ],
   "source": [
    "X=df.drop(60, axis=1)\n",
    "y=df[60]\n",
    "y.sample(5)"
   ]
  },
  {
   "cell_type": "code",
   "execution_count": 42,
   "metadata": {},
   "outputs": [
    {
     "data": {
      "text/html": [
       "<div>\n",
       "<style scoped>\n",
       "    .dataframe tbody tr th:only-of-type {\n",
       "        vertical-align: middle;\n",
       "    }\n",
       "\n",
       "    .dataframe tbody tr th {\n",
       "        vertical-align: top;\n",
       "    }\n",
       "\n",
       "    .dataframe thead th {\n",
       "        text-align: right;\n",
       "    }\n",
       "</style>\n",
       "<table border=\"1\" class=\"dataframe\">\n",
       "  <thead>\n",
       "    <tr style=\"text-align: right;\">\n",
       "      <th></th>\n",
       "      <th>R</th>\n",
       "    </tr>\n",
       "  </thead>\n",
       "  <tbody>\n",
       "    <tr>\n",
       "      <th>118</th>\n",
       "      <td>0</td>\n",
       "    </tr>\n",
       "    <tr>\n",
       "      <th>93</th>\n",
       "      <td>1</td>\n",
       "    </tr>\n",
       "    <tr>\n",
       "      <th>52</th>\n",
       "      <td>1</td>\n",
       "    </tr>\n",
       "    <tr>\n",
       "      <th>120</th>\n",
       "      <td>0</td>\n",
       "    </tr>\n",
       "    <tr>\n",
       "      <th>18</th>\n",
       "      <td>1</td>\n",
       "    </tr>\n",
       "  </tbody>\n",
       "</table>\n",
       "</div>"
      ],
      "text/plain": [
       "     R\n",
       "118  0\n",
       "93   1\n",
       "52   1\n",
       "120  0\n",
       "18   1"
      ]
     },
     "execution_count": 42,
     "metadata": {},
     "output_type": "execute_result"
    }
   ],
   "source": [
    "y = pd.get_dummies(y,drop_first=True)\n",
    "y.sample(5)"
   ]
  },
  {
   "cell_type": "code",
   "execution_count": 43,
   "metadata": {
    "scrolled": false
   },
   "outputs": [
    {
     "data": {
      "text/plain": [
       "0    111\n",
       "1     97\n",
       "Name: R, dtype: int64"
      ]
     },
     "execution_count": 43,
     "metadata": {},
     "output_type": "execute_result"
    }
   ],
   "source": [
    "y.R.value_counts()"
   ]
  },
  {
   "cell_type": "code",
   "execution_count": 46,
   "metadata": {},
   "outputs": [
    {
     "data": {
      "text/plain": [
       "((156, 60), (52, 60))"
      ]
     },
     "execution_count": 46,
     "metadata": {},
     "output_type": "execute_result"
    }
   ],
   "source": [
    "X_train.shape, X_test.shape"
   ]
  },
  {
   "cell_type": "code",
   "execution_count": 58,
   "metadata": {},
   "outputs": [],
   "source": [
    "from sklearn.model_selection import train_test_split\n",
    "X_train, X_test, y_train, y_test = train_test_split(X,y,test_size=0.25, random_state=5)"
   ]
  },
  {
   "cell_type": "code",
   "execution_count": 59,
   "metadata": {},
   "outputs": [],
   "source": [
    "import tensorflow as tf\n",
    "from tensorflow import keras"
   ]
  },
  {
   "cell_type": "code",
   "execution_count": 92,
   "metadata": {},
   "outputs": [
    {
     "name": "stdout",
     "output_type": "stream",
     "text": [
      "Epoch 1/100\n",
      "20/20 [==============================] - 0s 549us/step - loss: 0.6861 - accuracy: 0.6026\n",
      "Epoch 2/100\n",
      "20/20 [==============================] - 0s 549us/step - loss: 0.6712 - accuracy: 0.6282\n",
      "Epoch 3/100\n",
      "20/20 [==============================] - 0s 598us/step - loss: 0.6594 - accuracy: 0.6923\n",
      "Epoch 4/100\n",
      "20/20 [==============================] - 0s 499us/step - loss: 0.6389 - accuracy: 0.7436\n",
      "Epoch 5/100\n",
      "20/20 [==============================] - 0s 552us/step - loss: 0.6201 - accuracy: 0.7308\n",
      "Epoch 6/100\n",
      "20/20 [==============================] - 0s 598us/step - loss: 0.5895 - accuracy: 0.7500\n",
      "Epoch 7/100\n",
      "20/20 [==============================] - 0s 698us/step - loss: 0.5523 - accuracy: 0.8013\n",
      "Epoch 8/100\n",
      "20/20 [==============================] - 0s 549us/step - loss: 0.5133 - accuracy: 0.8077\n",
      "Epoch 9/100\n",
      "20/20 [==============================] - 0s 549us/step - loss: 0.4868 - accuracy: 0.7949\n",
      "Epoch 10/100\n",
      "20/20 [==============================] - 0s 499us/step - loss: 0.4616 - accuracy: 0.8077\n",
      "Epoch 11/100\n",
      "20/20 [==============================] - 0s 598us/step - loss: 0.4864 - accuracy: 0.7628\n",
      "Epoch 12/100\n",
      "20/20 [==============================] - 0s 598us/step - loss: 0.4175 - accuracy: 0.7949\n",
      "Epoch 13/100\n",
      "20/20 [==============================] - 0s 598us/step - loss: 0.4103 - accuracy: 0.8205\n",
      "Epoch 14/100\n",
      "20/20 [==============================] - 0s 648us/step - loss: 0.3914 - accuracy: 0.8269\n",
      "Epoch 15/100\n",
      "20/20 [==============================] - 0s 698us/step - loss: 0.3900 - accuracy: 0.8205\n",
      "Epoch 16/100\n",
      "20/20 [==============================] - 0s 598us/step - loss: 0.3683 - accuracy: 0.8590\n",
      "Epoch 17/100\n",
      "20/20 [==============================] - 0s 648us/step - loss: 0.3391 - accuracy: 0.8590\n",
      "Epoch 18/100\n",
      "20/20 [==============================] - 0s 598us/step - loss: 0.3596 - accuracy: 0.8077\n",
      "Epoch 19/100\n",
      "20/20 [==============================] - 0s 548us/step - loss: 0.3458 - accuracy: 0.8397\n",
      "Epoch 20/100\n",
      "20/20 [==============================] - 0s 549us/step - loss: 0.3741 - accuracy: 0.8333\n",
      "Epoch 21/100\n",
      "20/20 [==============================] - 0s 549us/step - loss: 0.3764 - accuracy: 0.8141\n",
      "Epoch 22/100\n",
      "20/20 [==============================] - 0s 598us/step - loss: 0.2957 - accuracy: 0.8910\n",
      "Epoch 23/100\n",
      "20/20 [==============================] - 0s 648us/step - loss: 0.2965 - accuracy: 0.8910\n",
      "Epoch 24/100\n",
      "20/20 [==============================] - 0s 598us/step - loss: 0.3122 - accuracy: 0.8590\n",
      "Epoch 25/100\n",
      "20/20 [==============================] - 0s 698us/step - loss: 0.2679 - accuracy: 0.8846\n",
      "Epoch 26/100\n",
      "20/20 [==============================] - 0s 598us/step - loss: 0.2552 - accuracy: 0.9231\n",
      "Epoch 27/100\n",
      "20/20 [==============================] - 0s 598us/step - loss: 0.2399 - accuracy: 0.9167\n",
      "Epoch 28/100\n",
      "20/20 [==============================] - 0s 748us/step - loss: 0.2635 - accuracy: 0.8718\n",
      "Epoch 29/100\n",
      "20/20 [==============================] - 0s 698us/step - loss: 0.2726 - accuracy: 0.8654\n",
      "Epoch 30/100\n",
      "20/20 [==============================] - 0s 648us/step - loss: 0.2403 - accuracy: 0.8910\n",
      "Epoch 31/100\n",
      "20/20 [==============================] - 0s 648us/step - loss: 0.2242 - accuracy: 0.9103\n",
      "Epoch 32/100\n",
      "20/20 [==============================] - 0s 549us/step - loss: 0.2025 - accuracy: 0.9038\n",
      "Epoch 33/100\n",
      "20/20 [==============================] - 0s 598us/step - loss: 0.2121 - accuracy: 0.9103\n",
      "Epoch 34/100\n",
      "20/20 [==============================] - 0s 549us/step - loss: 0.1839 - accuracy: 0.9295\n",
      "Epoch 35/100\n",
      "20/20 [==============================] - 0s 648us/step - loss: 0.1859 - accuracy: 0.9231\n",
      "Epoch 36/100\n",
      "20/20 [==============================] - 0s 598us/step - loss: 0.1733 - accuracy: 0.9487\n",
      "Epoch 37/100\n",
      "20/20 [==============================] - 0s 549us/step - loss: 0.1714 - accuracy: 0.9423\n",
      "Epoch 38/100\n",
      "20/20 [==============================] - 0s 598us/step - loss: 0.1438 - accuracy: 0.9551\n",
      "Epoch 39/100\n",
      "20/20 [==============================] - 0s 549us/step - loss: 0.1462 - accuracy: 0.9615\n",
      "Epoch 40/100\n",
      "20/20 [==============================] - 0s 698us/step - loss: 0.1285 - accuracy: 0.9487\n",
      "Epoch 41/100\n",
      "20/20 [==============================] - 0s 698us/step - loss: 0.1410 - accuracy: 0.9615\n",
      "Epoch 42/100\n",
      "20/20 [==============================] - 0s 549us/step - loss: 0.1324 - accuracy: 0.9615\n",
      "Epoch 43/100\n",
      "20/20 [==============================] - 0s 598us/step - loss: 0.1082 - accuracy: 0.9872\n",
      "Epoch 44/100\n",
      "20/20 [==============================] - 0s 499us/step - loss: 0.1038 - accuracy: 0.9872\n",
      "Epoch 45/100\n",
      "20/20 [==============================] - 0s 598us/step - loss: 0.1330 - accuracy: 0.9487\n",
      "Epoch 46/100\n",
      "20/20 [==============================] - 0s 598us/step - loss: 0.1472 - accuracy: 0.9487\n",
      "Epoch 47/100\n",
      "20/20 [==============================] - 0s 648us/step - loss: 0.1145 - accuracy: 0.9744\n",
      "Epoch 48/100\n",
      "20/20 [==============================] - 0s 598us/step - loss: 0.0863 - accuracy: 0.9936\n",
      "Epoch 49/100\n",
      "20/20 [==============================] - 0s 598us/step - loss: 0.0740 - accuracy: 0.9936\n",
      "Epoch 50/100\n",
      "20/20 [==============================] - 0s 698us/step - loss: 0.0672 - accuracy: 1.0000\n",
      "Epoch 51/100\n",
      "20/20 [==============================] - 0s 698us/step - loss: 0.0658 - accuracy: 1.0000\n",
      "Epoch 52/100\n",
      "20/20 [==============================] - 0s 598us/step - loss: 0.0570 - accuracy: 1.0000\n",
      "Epoch 53/100\n",
      "20/20 [==============================] - 0s 549us/step - loss: 0.0557 - accuracy: 1.0000\n",
      "Epoch 54/100\n",
      "20/20 [==============================] - 0s 598us/step - loss: 0.0539 - accuracy: 1.0000\n",
      "Epoch 55/100\n",
      "20/20 [==============================] - 0s 648us/step - loss: 0.0535 - accuracy: 1.0000\n",
      "Epoch 56/100\n",
      "20/20 [==============================] - 0s 549us/step - loss: 0.0451 - accuracy: 1.0000\n",
      "Epoch 57/100\n",
      "20/20 [==============================] - 0s 549us/step - loss: 0.0446 - accuracy: 1.0000\n",
      "Epoch 58/100\n",
      "20/20 [==============================] - 0s 598us/step - loss: 0.0675 - accuracy: 0.9936\n",
      "Epoch 59/100\n",
      "20/20 [==============================] - 0s 549us/step - loss: 0.0451 - accuracy: 1.0000\n",
      "Epoch 60/100\n",
      "20/20 [==============================] - 0s 598us/step - loss: 0.0417 - accuracy: 0.9936\n",
      "Epoch 61/100\n",
      "20/20 [==============================] - 0s 598us/step - loss: 0.0408 - accuracy: 0.9936\n",
      "Epoch 62/100\n",
      "20/20 [==============================] - 0s 648us/step - loss: 0.0318 - accuracy: 1.0000\n",
      "Epoch 63/100\n",
      "20/20 [==============================] - 0s 648us/step - loss: 0.0246 - accuracy: 1.0000\n",
      "Epoch 64/100\n",
      "20/20 [==============================] - 0s 648us/step - loss: 0.0270 - accuracy: 1.0000\n",
      "Epoch 65/100\n",
      "20/20 [==============================] - 0s 648us/step - loss: 0.0246 - accuracy: 1.0000\n",
      "Epoch 66/100\n",
      "20/20 [==============================] - 0s 648us/step - loss: 0.0294 - accuracy: 0.9936\n",
      "Epoch 67/100\n",
      "20/20 [==============================] - 0s 648us/step - loss: 0.0467 - accuracy: 0.9872\n",
      "Epoch 68/100\n",
      "20/20 [==============================] - 0s 549us/step - loss: 0.0228 - accuracy: 1.0000\n",
      "Epoch 69/100\n",
      "20/20 [==============================] - 0s 598us/step - loss: 0.0180 - accuracy: 1.0000\n",
      "Epoch 70/100\n",
      "20/20 [==============================] - 0s 549us/step - loss: 0.0151 - accuracy: 1.0000\n",
      "Epoch 71/100\n",
      "20/20 [==============================] - 0s 549us/step - loss: 0.0179 - accuracy: 1.0000\n",
      "Epoch 72/100\n",
      "20/20 [==============================] - 0s 598us/step - loss: 0.0159 - accuracy: 1.0000\n",
      "Epoch 73/100\n",
      "20/20 [==============================] - 0s 598us/step - loss: 0.0134 - accuracy: 1.0000\n",
      "Epoch 74/100\n",
      "20/20 [==============================] - 0s 549us/step - loss: 0.0133 - accuracy: 1.0000\n",
      "Epoch 75/100\n",
      "20/20 [==============================] - 0s 549us/step - loss: 0.0212 - accuracy: 1.0000\n",
      "Epoch 76/100\n",
      "20/20 [==============================] - 0s 549us/step - loss: 0.0178 - accuracy: 1.0000\n",
      "Epoch 77/100\n",
      "20/20 [==============================] - 0s 549us/step - loss: 0.0141 - accuracy: 1.0000\n",
      "Epoch 78/100\n",
      "20/20 [==============================] - 0s 549us/step - loss: 0.0104 - accuracy: 1.0000\n",
      "Epoch 79/100\n",
      "20/20 [==============================] - 0s 549us/step - loss: 0.0090 - accuracy: 1.0000\n",
      "Epoch 80/100\n",
      "20/20 [==============================] - 0s 499us/step - loss: 0.0086 - accuracy: 1.0000\n",
      "Epoch 81/100\n",
      "20/20 [==============================] - 0s 549us/step - loss: 0.0077 - accuracy: 1.0000\n",
      "Epoch 82/100\n",
      "20/20 [==============================] - ETA: 0s - loss: 0.0115 - accuracy: 1.00 - 0s 549us/step - loss: 0.0082 - accuracy: 1.0000\n",
      "Epoch 83/100\n",
      "20/20 [==============================] - 0s 549us/step - loss: 0.0074 - accuracy: 1.0000\n",
      "Epoch 84/100\n",
      "20/20 [==============================] - 0s 549us/step - loss: 0.0075 - accuracy: 1.0000\n",
      "Epoch 85/100\n",
      "20/20 [==============================] - 0s 549us/step - loss: 0.0066 - accuracy: 1.0000\n",
      "Epoch 86/100\n",
      "20/20 [==============================] - 0s 549us/step - loss: 0.0065 - accuracy: 1.0000\n",
      "Epoch 87/100\n",
      "20/20 [==============================] - 0s 548us/step - loss: 0.0061 - accuracy: 1.0000\n",
      "Epoch 88/100\n",
      "20/20 [==============================] - 0s 549us/step - loss: 0.0075 - accuracy: 1.0000\n",
      "Epoch 89/100\n",
      "20/20 [==============================] - 0s 549us/step - loss: 0.0071 - accuracy: 1.0000\n",
      "Epoch 90/100\n",
      "20/20 [==============================] - 0s 549us/step - loss: 0.0056 - accuracy: 1.0000\n",
      "Epoch 91/100\n",
      "20/20 [==============================] - 0s 549us/step - loss: 0.0050 - accuracy: 1.0000\n",
      "Epoch 92/100\n",
      "20/20 [==============================] - 0s 549us/step - loss: 0.0048 - accuracy: 1.0000\n",
      "Epoch 93/100\n",
      "20/20 [==============================] - 0s 549us/step - loss: 0.0047 - accuracy: 1.0000\n",
      "Epoch 94/100\n",
      "20/20 [==============================] - 0s 549us/step - loss: 0.0048 - accuracy: 1.0000\n",
      "Epoch 95/100\n",
      "20/20 [==============================] - 0s 549us/step - loss: 0.0044 - accuracy: 1.0000\n",
      "Epoch 96/100\n",
      "20/20 [==============================] - 0s 549us/step - loss: 0.0040 - accuracy: 1.0000\n",
      "Epoch 97/100\n",
      "20/20 [==============================] - 0s 549us/step - loss: 0.0037 - accuracy: 1.0000\n",
      "Epoch 98/100\n",
      "20/20 [==============================] - 0s 549us/step - loss: 0.0040 - accuracy: 1.0000\n",
      "Epoch 99/100\n",
      "20/20 [==============================] - 0s 548us/step - loss: 0.0036 - accuracy: 1.0000\n",
      "Epoch 100/100\n",
      "20/20 [==============================] - 0s 549us/step - loss: 0.0035 - accuracy: 1.0000\n"
     ]
    },
    {
     "data": {
      "text/plain": [
       "<tensorflow.python.keras.callbacks.History at 0x1fac94b6c70>"
      ]
     },
     "execution_count": 92,
     "metadata": {},
     "output_type": "execute_result"
    }
   ],
   "source": [
    "model=keras.Sequential([\n",
    "   keras.layers.Flatten(input_dim=60),\n",
    "    keras.layers.Dense(60, activation='relu'),\n",
    "    keras.layers.Dense(30, activation='relu'),\n",
    "     keras.layers.Dense(15, activation='relu'),\n",
    "     keras.layers.Dense(1, activation='sigmoid')\n",
    "])\n",
    "\n",
    "model.compile(loss='binary_crossentropy', optimizer='adam', metrics=['accuracy'])\n",
    "\n",
    "model.fit(X_train, y_train, epochs=100, batch_size=8)"
   ]
  },
  {
   "cell_type": "code",
   "execution_count": 61,
   "metadata": {
    "scrolled": true
   },
   "outputs": [
    {
     "name": "stdout",
     "output_type": "stream",
     "text": [
      "2/2 [==============================] - 0s 997us/step - loss: 0.6063 - accuracy: 0.8269\n"
     ]
    },
    {
     "data": {
      "text/plain": [
       "[0.6063352227210999, 0.8269230723381042]"
      ]
     },
     "execution_count": 61,
     "metadata": {},
     "output_type": "execute_result"
    }
   ],
   "source": [
    "model.evaluate(X_test, y_test)"
   ]
  },
  {
   "cell_type": "code",
   "execution_count": 62,
   "metadata": {},
   "outputs": [
    {
     "name": "stdout",
     "output_type": "stream",
     "text": [
      "[7.5392506e-07 9.9062258e-01 7.5385571e-03 1.4440411e-01 9.9992090e-01\n",
      " 5.5389643e-07 9.3006039e-01 9.9999547e-01 1.8209219e-04 9.9998724e-01]\n",
      "[0. 1. 0. 0. 1. 0. 1. 1. 0. 1.]\n"
     ]
    }
   ],
   "source": [
    "y_pred=model.predict(X_test).reshape(-1)\n",
    "print(y_pred[:10])\n",
    "\n",
    "y_pred=np.round(y_pred)\n",
    "print(y_pred[:10])"
   ]
  },
  {
   "cell_type": "code",
   "execution_count": 63,
   "metadata": {
    "scrolled": true
   },
   "outputs": [
    {
     "data": {
      "text/html": [
       "<div>\n",
       "<style scoped>\n",
       "    .dataframe tbody tr th:only-of-type {\n",
       "        vertical-align: middle;\n",
       "    }\n",
       "\n",
       "    .dataframe tbody tr th {\n",
       "        vertical-align: top;\n",
       "    }\n",
       "\n",
       "    .dataframe thead th {\n",
       "        text-align: right;\n",
       "    }\n",
       "</style>\n",
       "<table border=\"1\" class=\"dataframe\">\n",
       "  <thead>\n",
       "    <tr style=\"text-align: right;\">\n",
       "      <th></th>\n",
       "      <th>R</th>\n",
       "    </tr>\n",
       "  </thead>\n",
       "  <tbody>\n",
       "    <tr>\n",
       "      <th>156</th>\n",
       "      <td>0</td>\n",
       "    </tr>\n",
       "    <tr>\n",
       "      <th>21</th>\n",
       "      <td>1</td>\n",
       "    </tr>\n",
       "    <tr>\n",
       "      <th>193</th>\n",
       "      <td>0</td>\n",
       "    </tr>\n",
       "    <tr>\n",
       "      <th>159</th>\n",
       "      <td>0</td>\n",
       "    </tr>\n",
       "    <tr>\n",
       "      <th>34</th>\n",
       "      <td>1</td>\n",
       "    </tr>\n",
       "    <tr>\n",
       "      <th>196</th>\n",
       "      <td>0</td>\n",
       "    </tr>\n",
       "    <tr>\n",
       "      <th>6</th>\n",
       "      <td>1</td>\n",
       "    </tr>\n",
       "    <tr>\n",
       "      <th>25</th>\n",
       "      <td>1</td>\n",
       "    </tr>\n",
       "    <tr>\n",
       "      <th>115</th>\n",
       "      <td>0</td>\n",
       "    </tr>\n",
       "    <tr>\n",
       "      <th>51</th>\n",
       "      <td>1</td>\n",
       "    </tr>\n",
       "  </tbody>\n",
       "</table>\n",
       "</div>"
      ],
      "text/plain": [
       "     R\n",
       "156  0\n",
       "21   1\n",
       "193  0\n",
       "159  0\n",
       "34   1\n",
       "196  0\n",
       "6    1\n",
       "25   1\n",
       "115  0\n",
       "51   1"
      ]
     },
     "execution_count": 63,
     "metadata": {},
     "output_type": "execute_result"
    }
   ],
   "source": [
    "y_test[:10]"
   ]
  },
  {
   "cell_type": "code",
   "execution_count": 75,
   "metadata": {
    "scrolled": false
   },
   "outputs": [
    {
     "name": "stdout",
     "output_type": "stream",
     "text": [
      "              precision    recall  f1-score   support\n",
      "\n",
      "           0       0.79      0.97      0.87        32\n",
      "           1       0.92      0.60      0.73        20\n",
      "\n",
      "    accuracy                           0.83        52\n",
      "   macro avg       0.86      0.78      0.80        52\n",
      "weighted avg       0.84      0.83      0.82        52\n",
      "\n"
     ]
    }
   ],
   "source": [
    "from sklearn.metrics import confusion_matrix, classification_report\n",
    "print(classification_report(y_test, y_pred))"
   ]
  },
  {
   "cell_type": "code",
   "execution_count": 76,
   "metadata": {},
   "outputs": [
    {
     "name": "stdout",
     "output_type": "stream",
     "text": [
      "Epoch 1/100\n",
      "20/20 [==============================] - 0s 986us/step - loss: 0.7122 - accuracy: 0.5513\n",
      "Epoch 2/100\n",
      "20/20 [==============================] - 0s 650us/step - loss: 0.7568 - accuracy: 0.5256\n",
      "Epoch 3/100\n",
      "20/20 [==============================] - 0s 598us/step - loss: 0.6991 - accuracy: 0.5128\n",
      "Epoch 4/100\n",
      "20/20 [==============================] - 0s 647us/step - loss: 0.6993 - accuracy: 0.5128\n",
      "Epoch 5/100\n",
      "20/20 [==============================] - 0s 697us/step - loss: 0.6883 - accuracy: 0.5769\n",
      "Epoch 6/100\n",
      "20/20 [==============================] - 0s 648us/step - loss: 0.6960 - accuracy: 0.5064\n",
      "Epoch 7/100\n",
      "20/20 [==============================] - 0s 698us/step - loss: 0.7018 - accuracy: 0.5256\n",
      "Epoch 8/100\n",
      "20/20 [==============================] - 0s 698us/step - loss: 0.6854 - accuracy: 0.5385\n",
      "Epoch 9/100\n",
      "20/20 [==============================] - 0s 698us/step - loss: 0.6992 - accuracy: 0.5000\n",
      "Epoch 10/100\n",
      "20/20 [==============================] - 0s 598us/step - loss: 0.6807 - accuracy: 0.5833\n",
      "Epoch 11/100\n",
      "20/20 [==============================] - 0s 648us/step - loss: 0.6972 - accuracy: 0.5385\n",
      "Epoch 12/100\n",
      "20/20 [==============================] - 0s 598us/step - loss: 0.6907 - accuracy: 0.5000\n",
      "Epoch 13/100\n",
      "20/20 [==============================] - 0s 598us/step - loss: 0.6935 - accuracy: 0.5705\n",
      "Epoch 14/100\n",
      "20/20 [==============================] - 0s 548us/step - loss: 0.6992 - accuracy: 0.5128\n",
      "Epoch 15/100\n",
      "20/20 [==============================] - 0s 598us/step - loss: 0.6841 - accuracy: 0.5641\n",
      "Epoch 16/100\n",
      "20/20 [==============================] - 0s 597us/step - loss: 0.6856 - accuracy: 0.5641\n",
      "Epoch 17/100\n",
      "20/20 [==============================] - 0s 698us/step - loss: 0.6858 - accuracy: 0.5385\n",
      "Epoch 18/100\n",
      "20/20 [==============================] - 0s 597us/step - loss: 0.6747 - accuracy: 0.5449\n",
      "Epoch 19/100\n",
      "20/20 [==============================] - 0s 650us/step - loss: 0.6706 - accuracy: 0.5769\n",
      "Epoch 20/100\n",
      "20/20 [==============================] - 0s 598us/step - loss: 0.6851 - accuracy: 0.5577\n",
      "Epoch 21/100\n",
      "20/20 [==============================] - 0s 600us/step - loss: 0.6782 - accuracy: 0.6026\n",
      "Epoch 22/100\n",
      "20/20 [==============================] - 0s 598us/step - loss: 0.6736 - accuracy: 0.5641\n",
      "Epoch 23/100\n",
      "20/20 [==============================] - 0s 598us/step - loss: 0.6486 - accuracy: 0.6410\n",
      "Epoch 24/100\n",
      "20/20 [==============================] - 0s 598us/step - loss: 0.6820 - accuracy: 0.5385\n",
      "Epoch 25/100\n",
      "20/20 [==============================] - 0s 648us/step - loss: 0.6652 - accuracy: 0.5769\n",
      "Epoch 26/100\n",
      "20/20 [==============================] - 0s 598us/step - loss: 0.6646 - accuracy: 0.5897\n",
      "Epoch 27/100\n",
      "20/20 [==============================] - 0s 648us/step - loss: 0.6518 - accuracy: 0.5897\n",
      "Epoch 28/100\n",
      "20/20 [==============================] - 0s 647us/step - loss: 0.6579 - accuracy: 0.5833\n",
      "Epoch 29/100\n",
      "20/20 [==============================] - 0s 698us/step - loss: 0.6379 - accuracy: 0.6410\n",
      "Epoch 30/100\n",
      "20/20 [==============================] - 0s 698us/step - loss: 0.6451 - accuracy: 0.6474\n",
      "Epoch 31/100\n",
      "20/20 [==============================] - 0s 648us/step - loss: 0.6149 - accuracy: 0.6538\n",
      "Epoch 32/100\n",
      "20/20 [==============================] - 0s 748us/step - loss: 0.6080 - accuracy: 0.6603\n",
      "Epoch 33/100\n",
      "20/20 [==============================] - 0s 648us/step - loss: 0.6375 - accuracy: 0.6538\n",
      "Epoch 34/100\n",
      "20/20 [==============================] - 0s 648us/step - loss: 0.6416 - accuracy: 0.6346\n",
      "Epoch 35/100\n",
      "20/20 [==============================] - 0s 648us/step - loss: 0.6096 - accuracy: 0.6859\n",
      "Epoch 36/100\n",
      "20/20 [==============================] - 0s 598us/step - loss: 0.5978 - accuracy: 0.6667\n",
      "Epoch 37/100\n",
      "20/20 [==============================] - 0s 698us/step - loss: 0.6089 - accuracy: 0.6731\n",
      "Epoch 38/100\n",
      "20/20 [==============================] - 0s 648us/step - loss: 0.6015 - accuracy: 0.6410\n",
      "Epoch 39/100\n",
      "20/20 [==============================] - 0s 748us/step - loss: 0.5842 - accuracy: 0.6859\n",
      "Epoch 40/100\n",
      "20/20 [==============================] - 0s 648us/step - loss: 0.6291 - accuracy: 0.6538\n",
      "Epoch 41/100\n",
      "20/20 [==============================] - 0s 648us/step - loss: 0.5296 - accuracy: 0.7564\n",
      "Epoch 42/100\n",
      "20/20 [==============================] - 0s 648us/step - loss: 0.5692 - accuracy: 0.7115\n",
      "Epoch 43/100\n",
      "20/20 [==============================] - 0s 648us/step - loss: 0.6057 - accuracy: 0.6987\n",
      "Epoch 44/100\n",
      "20/20 [==============================] - 0s 698us/step - loss: 0.5477 - accuracy: 0.7051\n",
      "Epoch 45/100\n",
      "20/20 [==============================] - 0s 648us/step - loss: 0.5114 - accuracy: 0.7821\n",
      "Epoch 46/100\n",
      "20/20 [==============================] - 0s 648us/step - loss: 0.5570 - accuracy: 0.7115\n",
      "Epoch 47/100\n",
      "20/20 [==============================] - 0s 698us/step - loss: 0.5744 - accuracy: 0.7051\n",
      "Epoch 48/100\n",
      "20/20 [==============================] - 0s 698us/step - loss: 0.5255 - accuracy: 0.7436\n",
      "Epoch 49/100\n",
      "20/20 [==============================] - 0s 698us/step - loss: 0.5429 - accuracy: 0.7628\n",
      "Epoch 50/100\n",
      "20/20 [==============================] - 0s 598us/step - loss: 0.5130 - accuracy: 0.7500\n",
      "Epoch 51/100\n",
      "20/20 [==============================] - 0s 598us/step - loss: 0.5285 - accuracy: 0.7756\n",
      "Epoch 52/100\n",
      "20/20 [==============================] - 0s 598us/step - loss: 0.5078 - accuracy: 0.7692\n",
      "Epoch 53/100\n",
      "20/20 [==============================] - 0s 598us/step - loss: 0.4653 - accuracy: 0.7949\n",
      "Epoch 54/100\n",
      "20/20 [==============================] - 0s 648us/step - loss: 0.4922 - accuracy: 0.7756\n",
      "Epoch 55/100\n",
      "20/20 [==============================] - 0s 598us/step - loss: 0.5030 - accuracy: 0.7500\n",
      "Epoch 56/100\n",
      "20/20 [==============================] - 0s 598us/step - loss: 0.4751 - accuracy: 0.7885\n",
      "Epoch 57/100\n",
      "20/20 [==============================] - 0s 549us/step - loss: 0.4752 - accuracy: 0.7628\n",
      "Epoch 58/100\n",
      "20/20 [==============================] - 0s 598us/step - loss: 0.4508 - accuracy: 0.7692\n",
      "Epoch 59/100\n",
      "20/20 [==============================] - 0s 598us/step - loss: 0.4341 - accuracy: 0.7949\n",
      "Epoch 60/100\n",
      "20/20 [==============================] - 0s 648us/step - loss: 0.4224 - accuracy: 0.8333\n",
      "Epoch 61/100\n",
      "20/20 [==============================] - 0s 549us/step - loss: 0.4742 - accuracy: 0.8013\n",
      "Epoch 62/100\n",
      "20/20 [==============================] - 0s 598us/step - loss: 0.4613 - accuracy: 0.8077\n",
      "Epoch 63/100\n",
      "20/20 [==============================] - 0s 598us/step - loss: 0.4116 - accuracy: 0.8141\n",
      "Epoch 64/100\n",
      "20/20 [==============================] - 0s 598us/step - loss: 0.4070 - accuracy: 0.8718\n",
      "Epoch 65/100\n",
      "20/20 [==============================] - 0s 598us/step - loss: 0.3890 - accuracy: 0.8397\n",
      "Epoch 66/100\n",
      "20/20 [==============================] - 0s 648us/step - loss: 0.4087 - accuracy: 0.7821\n",
      "Epoch 67/100\n",
      "20/20 [==============================] - 0s 598us/step - loss: 0.4387 - accuracy: 0.7885\n",
      "Epoch 68/100\n",
      "20/20 [==============================] - 0s 549us/step - loss: 0.3590 - accuracy: 0.8846\n",
      "Epoch 69/100\n",
      "20/20 [==============================] - 0s 598us/step - loss: 0.4183 - accuracy: 0.7756\n",
      "Epoch 70/100\n",
      "20/20 [==============================] - 0s 598us/step - loss: 0.4106 - accuracy: 0.8526\n",
      "Epoch 71/100\n",
      "20/20 [==============================] - 0s 598us/step - loss: 0.4343 - accuracy: 0.7821\n",
      "Epoch 72/100\n",
      "20/20 [==============================] - 0s 598us/step - loss: 0.3535 - accuracy: 0.8718\n",
      "Epoch 73/100\n",
      "20/20 [==============================] - 0s 598us/step - loss: 0.3576 - accuracy: 0.8462\n",
      "Epoch 74/100\n",
      "20/20 [==============================] - 0s 598us/step - loss: 0.3842 - accuracy: 0.8333\n",
      "Epoch 75/100\n",
      "20/20 [==============================] - 0s 598us/step - loss: 0.4272 - accuracy: 0.8141\n",
      "Epoch 76/100\n",
      "20/20 [==============================] - 0s 598us/step - loss: 0.3634 - accuracy: 0.8333\n",
      "Epoch 77/100\n",
      "20/20 [==============================] - 0s 598us/step - loss: 0.3671 - accuracy: 0.8590\n",
      "Epoch 78/100\n",
      "20/20 [==============================] - 0s 598us/step - loss: 0.3649 - accuracy: 0.8654\n",
      "Epoch 79/100\n",
      "20/20 [==============================] - 0s 549us/step - loss: 0.3934 - accuracy: 0.8077\n",
      "Epoch 80/100\n",
      "20/20 [==============================] - 0s 947us/step - loss: 0.3260 - accuracy: 0.8718\n",
      "Epoch 81/100\n",
      "20/20 [==============================] - 0s 648us/step - loss: 0.2667 - accuracy: 0.9231\n",
      "Epoch 82/100\n",
      "20/20 [==============================] - 0s 698us/step - loss: 0.3101 - accuracy: 0.8718\n",
      "Epoch 83/100\n",
      "20/20 [==============================] - 0s 698us/step - loss: 0.3111 - accuracy: 0.8462\n",
      "Epoch 84/100\n",
      "20/20 [==============================] - 0s 698us/step - loss: 0.3271 - accuracy: 0.8782\n",
      "Epoch 85/100\n",
      "20/20 [==============================] - 0s 648us/step - loss: 0.3229 - accuracy: 0.8526\n",
      "Epoch 86/100\n",
      "20/20 [==============================] - 0s 598us/step - loss: 0.2726 - accuracy: 0.8910\n",
      "Epoch 87/100\n",
      "20/20 [==============================] - 0s 598us/step - loss: 0.2959 - accuracy: 0.8846\n",
      "Epoch 88/100\n",
      "20/20 [==============================] - 0s 598us/step - loss: 0.2752 - accuracy: 0.9038\n",
      "Epoch 89/100\n",
      "20/20 [==============================] - 0s 598us/step - loss: 0.2794 - accuracy: 0.8718\n",
      "Epoch 90/100\n",
      "20/20 [==============================] - 0s 598us/step - loss: 0.2673 - accuracy: 0.8974\n",
      "Epoch 91/100\n",
      "20/20 [==============================] - 0s 598us/step - loss: 0.3074 - accuracy: 0.8590\n",
      "Epoch 92/100\n",
      "20/20 [==============================] - 0s 598us/step - loss: 0.3698 - accuracy: 0.8462\n",
      "Epoch 93/100\n",
      "20/20 [==============================] - 0s 648us/step - loss: 0.3606 - accuracy: 0.8333\n",
      "Epoch 94/100\n",
      "20/20 [==============================] - 0s 598us/step - loss: 0.2691 - accuracy: 0.9038\n",
      "Epoch 95/100\n",
      "20/20 [==============================] - 0s 648us/step - loss: 0.3345 - accuracy: 0.8590\n",
      "Epoch 96/100\n",
      "20/20 [==============================] - 0s 648us/step - loss: 0.2904 - accuracy: 0.8654\n",
      "Epoch 97/100\n",
      "20/20 [==============================] - 0s 698us/step - loss: 0.3187 - accuracy: 0.8974\n",
      "Epoch 98/100\n",
      "20/20 [==============================] - 0s 598us/step - loss: 0.2637 - accuracy: 0.8782\n",
      "Epoch 99/100\n",
      "20/20 [==============================] - 0s 598us/step - loss: 0.2886 - accuracy: 0.8718\n",
      "Epoch 100/100\n",
      "20/20 [==============================] - 0s 598us/step - loss: 0.2894 - accuracy: 0.8846\n"
     ]
    },
    {
     "data": {
      "text/plain": [
       "<tensorflow.python.keras.callbacks.History at 0x1fac2fdb5e0>"
      ]
     },
     "execution_count": 76,
     "metadata": {},
     "output_type": "execute_result"
    }
   ],
   "source": [
    "modeld=tf.keras.Sequential([\n",
    "   tf.keras.layers.Dense(60, input_dim=60, activation='relu'),\n",
    "    tf.keras.layers.Dropout(0.5),\n",
    "    tf.keras.layers.Dense(30, activation='relu'),\n",
    "    tf.keras.layers.Dropout(0.5),\n",
    "     tf.keras.layers.Dense(15, activation='relu'),\n",
    "     tf.keras.layers.Dropout(0.5),\n",
    "     tf.keras.layers.Dense(1, activation='sigmoid')\n",
    "])\n",
    "\n",
    "modeld.compile(loss='binary_crossentropy', optimizer='adam', metrics=['accuracy'])\n",
    "\n",
    "modeld.fit(X_train, y_train, epochs=100, batch_size=8)"
   ]
  },
  {
   "cell_type": "code",
   "execution_count": 72,
   "metadata": {},
   "outputs": [
    {
     "name": "stdout",
     "output_type": "stream",
     "text": [
      "WARNING:tensorflow:6 out of the last 11 calls to <function Model.make_test_function.<locals>.test_function at 0x000001FAC1E23160> triggered tf.function retracing. Tracing is expensive and the excessive number of tracings could be due to (1) creating @tf.function repeatedly in a loop, (2) passing tensors with different shapes, (3) passing Python objects instead of tensors. For (1), please define your @tf.function outside of the loop. For (2), @tf.function has experimental_relax_shapes=True option that relaxes argument shapes that can avoid unnecessary retracing. For (3), please refer to https://www.tensorflow.org/tutorials/customization/performance#python_or_tensor_args and https://www.tensorflow.org/api_docs/python/tf/function for  more details.\n",
      "2/2 [==============================] - 0s 482us/step - loss: 0.3442 - accuracy: 0.8269\n"
     ]
    },
    {
     "data": {
      "text/plain": [
       "[0.3441932499408722, 0.8269230723381042]"
      ]
     },
     "execution_count": 72,
     "metadata": {},
     "output_type": "execute_result"
    }
   ],
   "source": [
    "modeld.evaluate(X_test, y_test)"
   ]
  },
  {
   "cell_type": "code",
   "execution_count": 73,
   "metadata": {},
   "outputs": [
    {
     "name": "stdout",
     "output_type": "stream",
     "text": [
      "[0.05507207 0.78582394 0.09976527 0.33466956 0.8852798  0.02182871\n",
      " 0.7848091  0.9874332  0.19567356 0.9958937 ]\n",
      "[0. 1. 0. 0. 1. 0. 1. 1. 0. 1.]\n"
     ]
    }
   ],
   "source": [
    "y_pred=modeld.predict(X_test).reshape(-1)\n",
    "print(y_pred[:10])\n",
    "\n",
    "y_pred=np.round(y_pred)\n",
    "print(y_pred[:10])"
   ]
  },
  {
   "cell_type": "code",
   "execution_count": 74,
   "metadata": {
    "scrolled": true
   },
   "outputs": [
    {
     "name": "stdout",
     "output_type": "stream",
     "text": [
      "              precision    recall  f1-score   support\n",
      "\n",
      "           0       0.79      0.97      0.87        32\n",
      "           1       0.92      0.60      0.73        20\n",
      "\n",
      "    accuracy                           0.83        52\n",
      "   macro avg       0.86      0.78      0.80        52\n",
      "weighted avg       0.84      0.83      0.82        52\n",
      "\n"
     ]
    }
   ],
   "source": [
    "print(classification_report(y_test, y_pred))"
   ]
  },
  {
   "cell_type": "code",
   "execution_count": 77,
   "metadata": {},
   "outputs": [
    {
     "data": {
      "text/plain": [
       "(2, 3)"
      ]
     },
     "execution_count": 77,
     "metadata": {},
     "output_type": "execute_result"
    }
   ],
   "source": [
    "a = np.array([[1,2,3], [4,5,6]])\n",
    "a.shape"
   ]
  },
  {
   "cell_type": "code",
   "execution_count": 88,
   "metadata": {},
   "outputs": [
    {
     "data": {
      "text/plain": [
       "array([1, 2, 3, 4, 5, 6])"
      ]
     },
     "execution_count": 88,
     "metadata": {},
     "output_type": "execute_result"
    }
   ],
   "source": [
    "a=np.reshape(a,(6))\n",
    "a"
   ]
  },
  {
   "cell_type": "code",
   "execution_count": 89,
   "metadata": {},
   "outputs": [
    {
     "data": {
      "text/plain": [
       "(6,)"
      ]
     },
     "execution_count": 89,
     "metadata": {},
     "output_type": "execute_result"
    }
   ],
   "source": [
    "a.shape"
   ]
  }
 ],
 "metadata": {
  "kernelspec": {
   "display_name": "Python 3",
   "language": "python",
   "name": "python3"
  },
  "language_info": {
   "codemirror_mode": {
    "name": "ipython",
    "version": 3
   },
   "file_extension": ".py",
   "mimetype": "text/x-python",
   "name": "python",
   "nbconvert_exporter": "python",
   "pygments_lexer": "ipython3",
   "version": "3.8.3"
  }
 },
 "nbformat": 4,
 "nbformat_minor": 4
}
